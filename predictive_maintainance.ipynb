{
  "nbformat": 4,
  "nbformat_minor": 0,
  "metadata": {
    "colab": {
      "provenance": [],
      "authorship_tag": "ABX9TyOu/U3J1/hYpGPYzF/lD7zP",
      "include_colab_link": true
    },
    "kernelspec": {
      "name": "python3",
      "display_name": "Python 3"
    },
    "language_info": {
      "name": "python"
    }
  },
  "cells": [
    {
      "cell_type": "markdown",
      "metadata": {
        "id": "view-in-github",
        "colab_type": "text"
      },
      "source": [
        "<a href=\"https://colab.research.google.com/github/shivangi-codes/Predictive-Maintenance/blob/main/predictive_maintainance.ipynb\" target=\"_parent\"><img src=\"https://colab.research.google.com/assets/colab-badge.svg\" alt=\"Open In Colab\"/></a>"
      ]
    },
    {
      "cell_type": "code",
      "execution_count": null,
      "metadata": {
        "id": "uMAgg55HrB0g"
      },
      "outputs": [],
      "source": [
        "# prompt: write import lib names for predictive maintance projects with commments\n",
        "\n",
        "# Data Processing Libraries\n",
        "import pandas as pd  # Data manipulation and analysis\n",
        "import numpy as np  # Numerical computing\n",
        "\n",
        "# Visualization Libraries\n",
        "import matplotlib.pyplot as plt  # Static visualizations\n",
        "import seaborn as sns  # Statistical visualizations\n",
        "\n",
        "# Machine Learning Libraries\n",
        "import sklearn as sk  # Machine learning algorithms\n",
        "from sklearn.model_selection import train_test_split  # Data splitting\n",
        "from sklearn.preprocessing import StandardScaler  # Data preprocessing\n",
        "\n",
        "# Predictive Maintenance Libraries\n",
        "import tensorflow as tf  # Deep learning\n",
        "import keras as ks  # Deep learning framework\n",
        "#from tsfresh import extract_features  # Time series feature extraction\n",
        "#from tsfresh.utilities.dataframe_functions import impute  # Data imputation\n"
      ]
    },
    {
      "cell_type": "code",
      "source": [],
      "metadata": {
        "id": "FcgdTbThraAI"
      },
      "execution_count": null,
      "outputs": []
    }
  ]
}